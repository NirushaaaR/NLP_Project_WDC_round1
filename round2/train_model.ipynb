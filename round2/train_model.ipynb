{
 "cells": [
  {
   "cell_type": "code",
   "execution_count": 7,
   "metadata": {},
   "outputs": [
    {
     "output_type": "stream",
     "name": "stderr",
     "text": "Using TensorFlow backend.\n"
    }
   ],
   "source": [
    "import numpy as np\n",
    "import deepcut\n",
    "from keras.models import Model\n",
    "from keras.layers import Input, Dense, GRU, LSTM, Dropout, Bidirectional\n",
    "from keras.utils import to_categorical\n",
    "import matplotlib.pyplot as plt\n",
    "from random import shuffle\n",
    "from sklearn.metrics import confusion_matrix"
   ]
  },
  {
   "cell_type": "markdown",
   "metadata": {},
   "source": [
    "# Extract labels and word lists from file."
   ]
  },
  {
   "cell_type": "code",
   "execution_count": 8,
   "metadata": {},
   "outputs": [],
   "source": [
    "input_sentence = [i.split(\"::\")[1].replace(\"\\n\", '') for i in open(\"pre_train_input.txt\", encoding=\"utf8\")]\n",
    "input_ans = [i.split(\"::\")[1].replace(\"\\n\", '') for i in open(\"pre_train_ans.txt\", encoding=\"utf-8\")]\n",
    "\n",
    "input_zip = list(zip(input_sentence, input_ans))\n",
    "shuffle(input_zip)\n",
    "\n",
    "# tokenize all words\n",
    "words = [[w for w in deepcut.tokenize(s[0]) if w != ' '] for s in input_zip]"
   ]
  },
  {
   "cell_type": "code",
   "execution_count": 9,
   "metadata": {},
   "outputs": [
    {
     "output_type": "stream",
     "name": "stdout",
     "text": "[['ตำรวจ', 'ได้', 'ออก', 'ตาม', 'หา', 'คน', 'ร้าย', 'หลัง', 'จาก', 'พบ', 'เขา', 'สัตว์', 'จำนวน', 'มาก'], ['น้ำ', 'ตก', 'อยู่', 'ใน', 'เขา'], ['เขา', 'มี', 'ของ', 'สะสม', 'มากมาย', 'เนื่อง', 'จาก', 'เป็น', 'นัก', 'สะสม'], ['แต่ละ', 'ตัว', 'จะ', 'มี', 'เขา', 'ที่', 'ไม่', 'เหมือน', 'กัน'], ['ถ้า', 'ไม่', 'มี', 'เขา', 'รัก', 'ของ', 'เรา', 'จะ', 'ยังคง', 'เป็น', 'ไป', 'ได้', 'ไหม'], ['ฉัน', 'อยาก', 'เห็น', 'อีก', 'ฝาก', 'ของ', 'เนิน', 'เขา', 'ลูก', 'นั้น', 'เธอ', 'พูด', 'พร้อม', 'กับ', 'ส่ง', 'ยิ้ม', 'ให้', 'ผม'], ['เพาะคาปรา', 'ไอบ็อก', 'มี', 'เขา'], ['เมื่อ', 'เช้า', 'มี', 'หมอก', 'เยอะ', 'มาก', 'จน', 'แทบ', 'ไม่', 'เห็น', 'เขา'], ['แอบ', 'ดู', 'ตอน', 'ที่', 'เขา', 'ส่ง', 'ข้อความ', 'มา', 'บอก', 'เธอ'], ['ตะวัน', 'ตก', 'นั้น', 'ขรุขระ', 'และ', 'เป็น', 'ที่', 'สูง', 'โดย', 'มี', 'เทือกเขาหิมาลัย', 'และ', 'เทียน', 'ชาน', 'กั้น', 'เป็น', 'พรมแดน', 'ตาม', 'ธรรมชาติ', 'กับ', 'ประเทศอินเดีย']]\n"
    }
   ],
   "source": [
    "# Extracted only the words around \"เขา\" in total 21 word\n",
    "def split_from_kau(words):\n",
    "    q = []\n",
    "    flag_found_kau = False\n",
    "    for w in words:\n",
    "        q.append(w)\n",
    "        if \"เขา\" in w:\n",
    "            flag_found_kau = True\n",
    "        elif flag_found_kau:\n",
    "            if len(q) >= 21:\n",
    "                break\n",
    "        else:\n",
    "            if len(q) > 10:\n",
    "                q.pop(0)\n",
    "    return q\n",
    "# print(index_of_kau(words[0]))\n",
    "words_split = [split_from_kau(w) for w in words]\n",
    "print(words_split[-10:])\n",
    "max_sentence_length = 21 # should not be longer than 21"
   ]
  },
  {
   "cell_type": "markdown",
   "metadata": {},
   "source": [
    "# Load pretrained word vector (only words in vocab)."
   ]
  },
  {
   "cell_type": "code",
   "execution_count": 10,
   "metadata": {
    "tags": [
     "outputPrepend",
     "outputPrepend"
    ]
   },
   "outputs": [],
   "source": [
    "vocab = set([w for s in words_split for w in s])\n",
    "\n",
    "pretrained_word_vec_file = open('cc.th.300.vec', 'r',encoding = 'utf-8-sig')\n",
    "count = 0\n",
    "vocab_vec = {}\n",
    "for line in pretrained_word_vec_file:\n",
    "    if count > 0:\n",
    "        line = line.split()\n",
    "        if(line[0] in vocab): \n",
    "            vocab_vec[line[0]] = line[1:]\n",
    "    count = count + 1\n"
   ]
  },
  {
   "cell_type": "markdown",
   "metadata": {},
   "source": [
    "# Create word vectors for all sentences."
   ]
  },
  {
   "cell_type": "code",
   "execution_count": 11,
   "metadata": {},
   "outputs": [],
   "source": [
    "# ไม่เจอคำที่มีให้ข้าม\n",
    "word_vector_length = 300\n",
    "word_vectors = np.zeros((len(words_split),max_sentence_length,word_vector_length))\n",
    "sample_count = 0\n",
    "for s in words_split:\n",
    "    word_count = 0\n",
    "    for w in s:\n",
    "        try:\n",
    "            word_vectors[sample_count,max_sentence_length-word_count-1,:] = vocab_vec[w]\n",
    "            word_count = word_count+1\n",
    "        except:\n",
    "            pass\n",
    "    sample_count = sample_count+1"
   ]
  },
  {
   "cell_type": "markdown",
   "metadata": {},
   "source": [
    "# Create RNN model."
   ]
  },
  {
   "cell_type": "code",
   "execution_count": 12,
   "metadata": {},
   "outputs": [
    {
     "output_type": "stream",
     "name": "stdout",
     "text": "Model: \"model_1\"\n_________________________________________________________________\nLayer (type)                 Output Shape              Param #   \n=================================================================\ninput_3 (InputLayer)         (None, 21, 300)           0         \n_________________________________________________________________\ngru_1 (GRU)                  (None, 30)                29790     \n_________________________________________________________________\ndense_1 (Dense)              (None, 5)                 155       \n_________________________________________________________________\ndense_2 (Dense)              (None, 5)                 30        \n_________________________________________________________________\ndense_3 (Dense)              (None, 3)                 18        \n=================================================================\nTotal params: 29,993\nTrainable params: 29,993\nNon-trainable params: 0\n_________________________________________________________________\nNone\n"
    }
   ],
   "source": [
    "inputLayer = Input(shape=(max_sentence_length,word_vector_length,))\n",
    "rnn = GRU(25, activation='relu')(inputLayer)\n",
    "# rnn = Dense(5, activation=\"tanh\")(rnn)\n",
    "# rnn = Bidirectional(LSTM(30, activation='relu'))(inputLayer)\n",
    "rnn = Dense(5, activation=\"tanh\")(rnn)\n",
    "# rnn = Dropout(0.5)(rnn)\n",
    "outputLayer = Dense(3, activation='softmax')(rnn) # for 3 classes\n",
    "model = Model(inputs=inputLayer, outputs=outputLayer)\n",
    "\n",
    "model.compile(optimizer='adam',\n",
    "              loss='categorical_crossentropy',\n",
    "              metrics=['accuracy'])\n",
    "\n",
    "print(model.summary())"
   ]
  },
  {
   "cell_type": "markdown",
   "metadata": {},
   "source": [
    "# Train RNN Model."
   ]
  },
  {
   "cell_type": "code",
   "execution_count": 13,
   "metadata": {},
   "outputs": [],
   "source": [
    "dict_label = {\"H\":0,\"P\":1,\"M\":2}\n",
    "labels = [dict_label[l[1]] for l in input_zip]\n",
    "# print(labels)"
   ]
  },
  {
   "cell_type": "code",
   "execution_count": 14,
   "metadata": {
    "tags": [
     "outputPrepend",
     "outputPrepend",
     "outputPrepend",
     "outputPrepend",
     "outputPrepend",
     "outputPrepend",
     "outputPrepend",
     "outputPrepend",
     "outputPrepend",
     "outputPrepend",
     "outputPrepend",
     "outputPrepend",
     "outputPrepend",
     "outputPrepend",
     "outputPrepend",
     "outputPrepend",
     "outputPrepend",
     "outputPrepend",
     "outputPrepend",
     "outputPrepend",
     "outputPrepend",
     "outputPrepend",
     "outputPrepend",
     "outputPrepend",
     "outputPrepend",
     "outputPrepend",
     "outputPrepend",
     "outputPrepend",
     "outputPrepend",
     "outputPrepend",
     "outputPrepend",
     "outputPrepend",
     "outputPrepend",
     "outputPrepend",
     "outputPrepend",
     "outputPrepend",
     "outputPrepend",
     "outputPrepend",
     "outputPrepend",
     "outputPrepend",
     "outputPrepend",
     "outputPrepend",
     "outputPrepend",
     "outputPrepend",
     "outputPrepend",
     "outputPrepend",
     "outputPrepend",
     "outputPrepend",
     "outputPrepend",
     "outputPrepend",
     "outputPrepend",
     "outputPrepend",
     "outputPrepend",
     "outputPrepend",
     "outputPrepend",
     "outputPrepend",
     "outputPrepend",
     "outputPrepend",
     "outputPrepend",
     "outputPrepend",
     "outputPrepend",
     "outputPrepend",
     "outputPrepend",
     "outputPrepend",
     "outputPrepend",
     "outputPrepend",
     "outputPrepend",
     "outputPrepend",
     "outputPrepend",
     "outputPrepend",
     "outputPrepend",
     "outputPrepend",
     "outputPrepend",
     "outputPrepend",
     "outputPrepend",
     "outputPrepend",
     "outputPrepend",
     "outputPrepend",
     "outputPrepend",
     "outputPrepend",
     "outputPrepend",
     "outputPrepend",
     "outputPrepend",
     "outputPrepend",
     "outputPrepend",
     "outputPrepend",
     "outputPrepend",
     "outputPrepend",
     "outputPrepend",
     "outputPrepend",
     "outputPrepend",
     "outputPrepend",
     "outputPrepend",
     "outputPrepend",
     "outputPrepend",
     "outputPrepend",
     "outputPrepend",
     "outputPrepend",
     "outputPrepend",
     "outputPrepend",
     "outputPrepend",
     "outputPrepend",
     "outputPrepend",
     "outputPrepend",
     "outputPrepend",
     "outputPrepend",
     "outputPrepend",
     "outputPrepend",
     "outputPrepend",
     "outputPrepend",
     "outputPrepend",
     "outputPrepend",
     "outputPrepend",
     "outputPrepend",
     "outputPrepend",
     "outputPrepend",
     "outputPrepend",
     "outputPrepend",
     "outputPrepend",
     "outputPrepend",
     "outputPrepend",
     "outputPrepend",
     "outputPrepend",
     "outputPrepend",
     "outputPrepend",
     "outputPrepend",
     "outputPrepend",
     "outputPrepend",
     "outputPrepend",
     "outputPrepend",
     "outputPrepend",
     "outputPrepend",
     "outputPrepend",
     "outputPrepend",
     "outputPrepend"
    ]
   },
   "outputs": [
    {
     "output_type": "stream",
     "name": "stdout",
     "text": " - loss: 0.0299 - accuracy: 0.9944 - val_loss: 0.2664 - val_accuracy: 0.9331\nEpoch 57/190\n2145/2145 [==============================] - 1s 362us/step - loss: 0.0358 - accuracy: 0.9907 - val_loss: 0.2768 - val_accuracy: 0.9372\nEpoch 58/190\n2145/2145 [==============================] - 1s 368us/step - loss: 0.0311 - accuracy: 0.9939 - val_loss: 0.2560 - val_accuracy: 0.9331\nEpoch 59/190\n2145/2145 [==============================] - 1s 375us/step - loss: 0.0256 - accuracy: 0.9953 - val_loss: 0.2443 - val_accuracy: 0.9498\nEpoch 60/190\n2145/2145 [==============================] - 1s 414us/step - loss: 0.0252 - accuracy: 0.9953 - val_loss: 0.2479 - val_accuracy: 0.9372\nEpoch 61/190\n2145/2145 [==============================] - 1s 406us/step - loss: 0.0247 - accuracy: 0.9953 - val_loss: 0.2393 - val_accuracy: 0.9456\nEpoch 62/190\n2145/2145 [==============================] - 1s 373us/step - loss: 0.0242 - accuracy: 0.9949 - val_loss: 0.2505 - val_accuracy: 0.9456\nEpoch 63/190\n2145/2145 [==============================] - 1s 363us/step - loss: 0.0250 - accuracy: 0.9944 - val_loss: 0.2624 - val_accuracy: 0.9456\nEpoch 64/190\n2145/2145 [==============================] - 1s 364us/step - loss: 0.0262 - accuracy: 0.9944 - val_loss: 0.3112 - val_accuracy: 0.9247\nEpoch 65/190\n2145/2145 [==============================] - 1s 387us/step - loss: 0.0526 - accuracy: 0.9832 - val_loss: 0.2397 - val_accuracy: 0.9456\nEpoch 66/190\n2145/2145 [==============================] - 1s 420us/step - loss: 0.0278 - accuracy: 0.9939 - val_loss: 0.2521 - val_accuracy: 0.9414\nEpoch 67/190\n2145/2145 [==============================] - 1s 383us/step - loss: 0.0263 - accuracy: 0.9935 - val_loss: 0.2640 - val_accuracy: 0.9372\nEpoch 68/190\n2145/2145 [==============================] - 1s 365us/step - loss: 0.0246 - accuracy: 0.9944 - val_loss: 0.2590 - val_accuracy: 0.9372\nEpoch 69/190\n2145/2145 [==============================] - 1s 366us/step - loss: 0.0243 - accuracy: 0.9949 - val_loss: 0.3259 - val_accuracy: 0.9247\nEpoch 70/190\n2145/2145 [==============================] - 1s 410us/step - loss: 0.0664 - accuracy: 0.9790 - val_loss: 0.2723 - val_accuracy: 0.9121\nEpoch 71/190\n2145/2145 [==============================] - 1s 388us/step - loss: 0.0534 - accuracy: 0.9851 - val_loss: 0.4656 - val_accuracy: 0.8996\nEpoch 72/190\n2145/2145 [==============================] - 1s 394us/step - loss: 0.0794 - accuracy: 0.9758 - val_loss: 0.2284 - val_accuracy: 0.9331\nEpoch 73/190\n2145/2145 [==============================] - 1s 361us/step - loss: 0.0268 - accuracy: 0.9939 - val_loss: 0.2329 - val_accuracy: 0.9414\nEpoch 74/190\n2145/2145 [==============================] - 1s 361us/step - loss: 0.0225 - accuracy: 0.9953 - val_loss: 0.2339 - val_accuracy: 0.9414\nEpoch 75/190\n2145/2145 [==============================] - 1s 348us/step - loss: 0.0222 - accuracy: 0.9958 - val_loss: 0.2373 - val_accuracy: 0.9456\nEpoch 76/190\n2145/2145 [==============================] - 1s 358us/step - loss: 0.0201 - accuracy: 0.9958 - val_loss: 0.2371 - val_accuracy: 0.9372\nEpoch 77/190\n2145/2145 [==============================] - 1s 353us/step - loss: 0.0200 - accuracy: 0.9958 - val_loss: 0.2351 - val_accuracy: 0.9372\nEpoch 78/190\n2145/2145 [==============================] - 1s 388us/step - loss: 0.0204 - accuracy: 0.9953 - val_loss: 0.2380 - val_accuracy: 0.9498\nEpoch 79/190\n2145/2145 [==============================] - 1s 392us/step - loss: 0.0208 - accuracy: 0.9939 - val_loss: 0.2329 - val_accuracy: 0.9456\nEpoch 80/190\n2145/2145 [==============================] - 1s 382us/step - loss: 0.0208 - accuracy: 0.9953 - val_loss: 0.2366 - val_accuracy: 0.9498\nEpoch 81/190\n2145/2145 [==============================] - 1s 377us/step - loss: 0.0195 - accuracy: 0.9958 - val_loss: 0.2380 - val_accuracy: 0.9498\nEpoch 82/190\n2145/2145 [==============================] - 1s 359us/step - loss: 0.0195 - accuracy: 0.9953 - val_loss: 0.2461 - val_accuracy: 0.9498\nEpoch 83/190\n2145/2145 [==============================] - 1s 365us/step - loss: 0.0193 - accuracy: 0.9958 - val_loss: 0.2313 - val_accuracy: 0.9498\nEpoch 84/190\n2145/2145 [==============================] - 1s 396us/step - loss: 0.0184 - accuracy: 0.9953 - val_loss: 0.2339 - val_accuracy: 0.9498\nEpoch 85/190\n2145/2145 [==============================] - 1s 426us/step - loss: 0.0187 - accuracy: 0.9963 - val_loss: 0.2399 - val_accuracy: 0.9456\nEpoch 86/190\n2145/2145 [==============================] - 1s 380us/step - loss: 0.0186 - accuracy: 0.9949 - val_loss: 0.2362 - val_accuracy: 0.9540\nEpoch 87/190\n2145/2145 [==============================] - 1s 379us/step - loss: 0.0189 - accuracy: 0.9958 - val_loss: 0.2401 - val_accuracy: 0.9540\nEpoch 88/190\n2145/2145 [==============================] - 1s 373us/step - loss: 0.0197 - accuracy: 0.9953 - val_loss: 0.2627 - val_accuracy: 0.9372\nEpoch 89/190\n2145/2145 [==============================] - 1s 472us/step - loss: 0.0172 - accuracy: 0.9963 - val_loss: 0.2512 - val_accuracy: 0.9456\nEpoch 90/190\n2145/2145 [==============================] - 1s 442us/step - loss: 0.0163 - accuracy: 0.9963 - val_loss: 0.2517 - val_accuracy: 0.9456\nEpoch 91/190\n2145/2145 [==============================] - 1s 465us/step - loss: 0.0153 - accuracy: 0.9967 - val_loss: 0.2509 - val_accuracy: 0.9498\nEpoch 92/190\n2145/2145 [==============================] - 1s 435us/step - loss: 0.0150 - accuracy: 0.9963 - val_loss: 0.2456 - val_accuracy: 0.9540\nEpoch 93/190\n2145/2145 [==============================] - 1s 456us/step - loss: 0.0158 - accuracy: 0.9963 - val_loss: 0.2420 - val_accuracy: 0.9540\nEpoch 94/190\n2145/2145 [==============================] - 1s 459us/step - loss: 0.0154 - accuracy: 0.9953 - val_loss: 0.2448 - val_accuracy: 0.9540\nEpoch 95/190\n2145/2145 [==============================] - 1s 443us/step - loss: 0.0171 - accuracy: 0.9953 - val_loss: 0.2498 - val_accuracy: 0.9498\nEpoch 96/190\n2145/2145 [==============================] - 1s 487us/step - loss: 0.0236 - accuracy: 0.9925 - val_loss: 0.3051 - val_accuracy: 0.9372\nEpoch 97/190\n2145/2145 [==============================] - 1s 405us/step - loss: 0.0154 - accuracy: 0.9958 - val_loss: 0.2922 - val_accuracy: 0.9414\nEpoch 98/190\n2145/2145 [==============================] - 1s 399us/step - loss: 0.0156 - accuracy: 0.9963 - val_loss: 0.2945 - val_accuracy: 0.9331\nEpoch 99/190\n2145/2145 [==============================] - 1s 381us/step - loss: 0.0147 - accuracy: 0.9953 - val_loss: 0.2834 - val_accuracy: 0.9456\nEpoch 100/190\n2145/2145 [==============================] - 1s 428us/step - loss: 0.0153 - accuracy: 0.9963 - val_loss: 0.2764 - val_accuracy: 0.9498\nEpoch 101/190\n2145/2145 [==============================] - 1s 460us/step - loss: 0.0149 - accuracy: 0.9958 - val_loss: 0.2783 - val_accuracy: 0.9498\nEpoch 102/190\n2145/2145 [==============================] - 1s 381us/step - loss: 0.0154 - accuracy: 0.9958 - val_loss: 0.2797 - val_accuracy: 0.9498\nEpoch 103/190\n2145/2145 [==============================] - 1s 378us/step - loss: 0.0139 - accuracy: 0.9953 - val_loss: 0.2759 - val_accuracy: 0.9540\nEpoch 104/190\n2145/2145 [==============================] - 1s 403us/step - loss: 0.0148 - accuracy: 0.9958 - val_loss: 0.2757 - val_accuracy: 0.9372\nEpoch 105/190\n2145/2145 [==============================] - 1s 413us/step - loss: 0.0140 - accuracy: 0.9967 - val_loss: 0.2730 - val_accuracy: 0.9498\nEpoch 106/190\n2145/2145 [==============================] - 1s 405us/step - loss: 0.0146 - accuracy: 0.9963 - val_loss: 0.2707 - val_accuracy: 0.9498\nEpoch 107/190\n2145/2145 [==============================] - 1s 443us/step - loss: 0.0151 - accuracy: 0.9949 - val_loss: 0.2773 - val_accuracy: 0.9456\nEpoch 108/190\n2145/2145 [==============================] - 1s 366us/step - loss: 0.0149 - accuracy: 0.9963 - val_loss: 0.2719 - val_accuracy: 0.9456\nEpoch 109/190\n2145/2145 [==============================] - 1s 366us/step - loss: 0.0153 - accuracy: 0.9963 - val_loss: 0.3011 - val_accuracy: 0.9289\nEpoch 110/190\n2145/2145 [==============================] - 1s 391us/step - loss: 0.0227 - accuracy: 0.9921 - val_loss: 0.5062 - val_accuracy: 0.8870\nEpoch 111/190\n2145/2145 [==============================] - 1s 380us/step - loss: 0.1138 - accuracy: 0.9655 - val_loss: 0.2723 - val_accuracy: 0.9331\nEpoch 112/190\n2145/2145 [==============================] - 1s 401us/step - loss: 0.0301 - accuracy: 0.9911 - val_loss: 0.2833 - val_accuracy: 0.9372\nEpoch 113/190\n2145/2145 [==============================] - 1s 487us/step - loss: 0.0258 - accuracy: 0.9925 - val_loss: 0.2326 - val_accuracy: 0.9498\nEpoch 114/190\n2145/2145 [==============================] - 1s 438us/step - loss: 0.0185 - accuracy: 0.9939 - val_loss: 0.2546 - val_accuracy: 0.9540\nEpoch 115/190\n2145/2145 [==============================] - 1s 449us/step - loss: 0.0160 - accuracy: 0.9958 - val_loss: 0.2414 - val_accuracy: 0.9540\nEpoch 116/190\n2145/2145 [==============================] - 1s 439us/step - loss: 0.0152 - accuracy: 0.9963 - val_loss: 0.2484 - val_accuracy: 0.9414\nEpoch 117/190\n2145/2145 [==============================] - 1s 455us/step - loss: 0.0138 - accuracy: 0.9949 - val_loss: 0.2442 - val_accuracy: 0.9498\nEpoch 118/190\n2145/2145 [==============================] - 1s 553us/step - loss: 0.0150 - accuracy: 0.9963 - val_loss: 0.2386 - val_accuracy: 0.9498\nEpoch 119/190\n2145/2145 [==============================] - 1s 487us/step - loss: 0.0166 - accuracy: 0.9944 - val_loss: 0.2467 - val_accuracy: 0.9540\nEpoch 120/190\n2145/2145 [==============================] - 1s 485us/step - loss: 0.0158 - accuracy: 0.9944 - val_loss: 0.2402 - val_accuracy: 0.9582\nEpoch 121/190\n2145/2145 [==============================] - 1s 488us/step - loss: 0.0142 - accuracy: 0.9958 - val_loss: 0.2466 - val_accuracy: 0.9456\nEpoch 122/190\n2145/2145 [==============================] - 1s 470us/step - loss: 0.0149 - accuracy: 0.9953 - val_loss: 0.2475 - val_accuracy: 0.9540\nEpoch 123/190\n2145/2145 [==============================] - 1s 403us/step - loss: 0.0138 - accuracy: 0.9963 - val_loss: 0.2484 - val_accuracy: 0.9456\nEpoch 124/190\n2145/2145 [==============================] - 1s 363us/step - loss: 0.0144 - accuracy: 0.9939 - val_loss: 0.2540 - val_accuracy: 0.9540\nEpoch 125/190\n2145/2145 [==============================] - 1s 369us/step - loss: 0.0151 - accuracy: 0.9949 - val_loss: 0.2486 - val_accuracy: 0.9582\nEpoch 126/190\n2145/2145 [==============================] - 1s 362us/step - loss: 0.0144 - accuracy: 0.9953 - val_loss: 0.2497 - val_accuracy: 0.9582\nEpoch 127/190\n2145/2145 [==============================] - 1s 393us/step - loss: 0.0134 - accuracy: 0.9963 - val_loss: 0.2516 - val_accuracy: 0.9456\nEpoch 128/190\n2145/2145 [==============================] - 1s 400us/step - loss: 0.0135 - accuracy: 0.9953 - val_loss: 0.2603 - val_accuracy: 0.9456\nEpoch 129/190\n2145/2145 [==============================] - 1s 423us/step - loss: 0.0156 - accuracy: 0.9944 - val_loss: 0.2831 - val_accuracy: 0.9372\nEpoch 130/190\n2145/2145 [==============================] - 1s 384us/step - loss: 0.0164 - accuracy: 0.9958 - val_loss: 0.2560 - val_accuracy: 0.9540\nEpoch 131/190\n2145/2145 [==============================] - 1s 370us/step - loss: 0.0150 - accuracy: 0.9958 - val_loss: 0.2502 - val_accuracy: 0.9582\nEpoch 132/190\n2145/2145 [==============================] - 1s 380us/step - loss: 0.0202 - accuracy: 0.9930 - val_loss: 0.3435 - val_accuracy: 0.9289\nEpoch 133/190\n2145/2145 [==============================] - 1s 380us/step - loss: 0.0259 - accuracy: 0.9916 - val_loss: 0.2670 - val_accuracy: 0.9456\nEpoch 134/190\n2145/2145 [==============================] - 1s 394us/step - loss: 0.0164 - accuracy: 0.9939 - val_loss: 0.2664 - val_accuracy: 0.9456\nEpoch 135/190\n2145/2145 [==============================] - 1s 410us/step - loss: 0.0162 - accuracy: 0.9958 - val_loss: 0.2758 - val_accuracy: 0.9414\nEpoch 136/190\n2145/2145 [==============================] - 1s 380us/step - loss: 0.0143 - accuracy: 0.9953 - val_loss: 0.2668 - val_accuracy: 0.9414\nEpoch 137/190\n2145/2145 [==============================] - 1s 316us/step - loss: 0.0133 - accuracy: 0.9953 - val_loss: 0.2717 - val_accuracy: 0.9414\nEpoch 138/190\n2145/2145 [==============================] - 1s 297us/step - loss: 0.0132 - accuracy: 0.9963 - val_loss: 0.2627 - val_accuracy: 0.9414\nEpoch 139/190\n2145/2145 [==============================] - 1s 344us/step - loss: 0.0133 - accuracy: 0.9958 - val_loss: 0.2719 - val_accuracy: 0.9414\nEpoch 140/190\n2145/2145 [==============================] - 1s 358us/step - loss: 0.0138 - accuracy: 0.9949 - val_loss: 0.2651 - val_accuracy: 0.9372\nEpoch 141/190\n2145/2145 [==============================] - 1s 367us/step - loss: 0.0122 - accuracy: 0.9963 - val_loss: 0.2993 - val_accuracy: 0.9414\nEpoch 142/190\n2145/2145 [==============================] - 1s 367us/step - loss: 0.0146 - accuracy: 0.9949 - val_loss: 0.2843 - val_accuracy: 0.9456\nEpoch 143/190\n2145/2145 [==============================] - 1s 349us/step - loss: 0.0133 - accuracy: 0.9953 - val_loss: 0.2646 - val_accuracy: 0.9414\nEpoch 144/190\n2145/2145 [==============================] - 1s 384us/step - loss: 0.0129 - accuracy: 0.9958 - val_loss: 0.2555 - val_accuracy: 0.9414\nEpoch 145/190\n2145/2145 [==============================] - 1s 347us/step - loss: 0.0127 - accuracy: 0.9958 - val_loss: 0.2559 - val_accuracy: 0.9456\nEpoch 146/190\n2145/2145 [==============================] - 1s 282us/step - loss: 0.0128 - accuracy: 0.9944 - val_loss: 0.2570 - val_accuracy: 0.9414\nEpoch 147/190\n2145/2145 [==============================] - 1s 295us/step - loss: 0.0122 - accuracy: 0.9953 - val_loss: 0.2569 - val_accuracy: 0.9456\nEpoch 148/190\n2145/2145 [==============================] - 1s 312us/step - loss: 0.0131 - accuracy: 0.9949 - val_loss: 0.2583 - val_accuracy: 0.9456\nEpoch 149/190\n2145/2145 [==============================] - 1s 281us/step - loss: 0.0120 - accuracy: 0.9963 - val_loss: 0.2579 - val_accuracy: 0.9414\nEpoch 150/190\n2145/2145 [==============================] - 1s 296us/step - loss: 0.0124 - accuracy: 0.9958 - val_loss: 0.2660 - val_accuracy: 0.9414\nEpoch 151/190\n2145/2145 [==============================] - 1s 284us/step - loss: 0.0138 - accuracy: 0.9953 - val_loss: 0.2658 - val_accuracy: 0.9414\nEpoch 152/190\n2145/2145 [==============================] - 1s 292us/step - loss: 0.0128 - accuracy: 0.9953 - val_loss: 0.2651 - val_accuracy: 0.9456\nEpoch 153/190\n2145/2145 [==============================] - 1s 282us/step - loss: 0.0132 - accuracy: 0.9949 - val_loss: 0.2834 - val_accuracy: 0.9456\nEpoch 154/190\n2145/2145 [==============================] - 1s 296us/step - loss: 0.0120 - accuracy: 0.9963 - val_loss: 0.2586 - val_accuracy: 0.9456\nEpoch 155/190\n2145/2145 [==============================] - 1s 283us/step - loss: 0.0134 - accuracy: 0.9958 - val_loss: 0.2618 - val_accuracy: 0.9498\nEpoch 156/190\n2145/2145 [==============================] - 1s 309us/step - loss: 0.0128 - accuracy: 0.9939 - val_loss: 0.2799 - val_accuracy: 0.9414\nEpoch 157/190\n2145/2145 [==============================] - 1s 286us/step - loss: 0.0305 - accuracy: 0.9902 - val_loss: 0.3796 - val_accuracy: 0.9121\nEpoch 158/190\n2145/2145 [==============================] - 1s 289us/step - loss: 0.0717 - accuracy: 0.9800 - val_loss: 0.2957 - val_accuracy: 0.9456\nEpoch 159/190\n2145/2145 [==============================] - 1s 295us/step - loss: 0.0273 - accuracy: 0.9907 - val_loss: 0.3222 - val_accuracy: 0.9414\nEpoch 160/190\n2145/2145 [==============================] - 1s 287us/step - loss: 0.0189 - accuracy: 0.9930 - val_loss: 0.2711 - val_accuracy: 0.9456\nEpoch 161/190\n2145/2145 [==============================] - 1s 285us/step - loss: 0.0133 - accuracy: 0.9963 - val_loss: 0.2739 - val_accuracy: 0.9498\nEpoch 162/190\n2145/2145 [==============================] - 1s 299us/step - loss: 0.0121 - accuracy: 0.9963 - val_loss: 0.2625 - val_accuracy: 0.9456\nEpoch 163/190\n2145/2145 [==============================] - 1s 295us/step - loss: 0.0132 - accuracy: 0.9958 - val_loss: 0.2741 - val_accuracy: 0.9498\nEpoch 164/190\n2145/2145 [==============================] - 1s 325us/step - loss: 0.0126 - accuracy: 0.9958 - val_loss: 0.2553 - val_accuracy: 0.9540\nEpoch 165/190\n2145/2145 [==============================] - 1s 287us/step - loss: 0.0121 - accuracy: 0.9972 - val_loss: 0.2785 - val_accuracy: 0.9372\nEpoch 166/190\n2145/2145 [==============================] - 1s 286us/step - loss: 0.0125 - accuracy: 0.9958 - val_loss: 0.2789 - val_accuracy: 0.9414\nEpoch 167/190\n2145/2145 [==============================] - 1s 286us/step - loss: 0.0129 - accuracy: 0.9949 - val_loss: 0.2853 - val_accuracy: 0.9414\nEpoch 168/190\n2145/2145 [==============================] - 1s 286us/step - loss: 0.0115 - accuracy: 0.9963 - val_loss: 0.2571 - val_accuracy: 0.9498\nEpoch 169/190\n2145/2145 [==============================] - 1s 294us/step - loss: 0.0141 - accuracy: 0.9949 - val_loss: 0.2786 - val_accuracy: 0.9498\nEpoch 170/190\n2145/2145 [==============================] - 1s 290us/step - loss: 0.0131 - accuracy: 0.9953 - val_loss: 0.2918 - val_accuracy: 0.9414\nEpoch 171/190\n2145/2145 [==============================] - 1s 288us/step - loss: 0.0114 - accuracy: 0.9963 - val_loss: 0.2691 - val_accuracy: 0.9456\nEpoch 172/190\n2145/2145 [==============================] - 1s 321us/step - loss: 0.0120 - accuracy: 0.9963 - val_loss: 0.2757 - val_accuracy: 0.9414\nEpoch 173/190\n2145/2145 [==============================] - 1s 284us/step - loss: 0.0135 - accuracy: 0.9939 - val_loss: 0.3045 - val_accuracy: 0.9414\nEpoch 174/190\n2145/2145 [==============================] - 1s 290us/step - loss: 0.0127 - accuracy: 0.9953 - val_loss: 0.2711 - val_accuracy: 0.9540\nEpoch 175/190\n2145/2145 [==============================] - 1s 287us/step - loss: 0.0118 - accuracy: 0.9958 - val_loss: 0.2722 - val_accuracy: 0.9414\nEpoch 176/190\n2145/2145 [==============================] - 1s 290us/step - loss: 0.0111 - accuracy: 0.9967 - val_loss: 0.2722 - val_accuracy: 0.9498\nEpoch 177/190\n2145/2145 [==============================] - 1s 284us/step - loss: 0.0121 - accuracy: 0.9953 - val_loss: 0.2762 - val_accuracy: 0.9414\nEpoch 178/190\n2145/2145 [==============================] - 1s 294us/step - loss: 0.0109 - accuracy: 0.9963 - val_loss: 0.2654 - val_accuracy: 0.9456\nEpoch 179/190\n2145/2145 [==============================] - 1s 291us/step - loss: 0.0127 - accuracy: 0.9953 - val_loss: 0.2612 - val_accuracy: 0.9498\nEpoch 180/190\n2145/2145 [==============================] - 1s 307us/step - loss: 0.0108 - accuracy: 0.9967 - val_loss: 0.2675 - val_accuracy: 0.9414\nEpoch 181/190\n2145/2145 [==============================] - 1s 302us/step - loss: 0.0106 - accuracy: 0.9958 - val_loss: 0.2769 - val_accuracy: 0.9414\nEpoch 182/190\n2145/2145 [==============================] - 1s 306us/step - loss: 0.0107 - accuracy: 0.9972 - val_loss: 0.2997 - val_accuracy: 0.9456\nEpoch 183/190\n2145/2145 [==============================] - 1s 312us/step - loss: 0.0182 - accuracy: 0.9921 - val_loss: 0.3243 - val_accuracy: 0.9456\nEpoch 184/190\n2145/2145 [==============================] - 1s 304us/step - loss: 0.0329 - accuracy: 0.9888 - val_loss: 0.2985 - val_accuracy: 0.9372\nEpoch 185/190\n2145/2145 [==============================] - 1s 307us/step - loss: 0.0178 - accuracy: 0.9925 - val_loss: 0.2900 - val_accuracy: 0.9414\nEpoch 186/190\n2145/2145 [==============================] - 1s 333us/step - loss: 0.0134 - accuracy: 0.9953 - val_loss: 0.2821 - val_accuracy: 0.9456\nEpoch 187/190\n2145/2145 [==============================] - 1s 334us/step - loss: 0.0126 - accuracy: 0.9958 - val_loss: 0.2959 - val_accuracy: 0.9456\nEpoch 188/190\n2145/2145 [==============================] - 1s 299us/step - loss: 0.0125 - accuracy: 0.9953 - val_loss: 0.2881 - val_accuracy: 0.9414\nEpoch 189/190\n2145/2145 [==============================] - 1s 293us/step - loss: 0.0111 - accuracy: 0.9958 - val_loss: 0.3245 - val_accuracy: 0.9331\nEpoch 190/190\n2145/2145 [==============================] - 1s 305us/step - loss: 0.0126 - accuracy: 0.9967 - val_loss: 0.2792 - val_accuracy: 0.9372\n"
    }
   ],
   "source": [
    "split_to_train = len(word_vectors)\n",
    "history = model.fit(word_vectors[:split_to_train], to_categorical(labels[:split_to_train]), epochs=190, batch_size=50, validation_split = 0.1)"
   ]
  },
  {
   "cell_type": "code",
   "execution_count": 15,
   "metadata": {},
   "outputs": [
    {
     "output_type": "display_data",
     "data": {
      "text/plain": "<Figure size 432x288 with 1 Axes>",
      "image/svg+xml": "<?xml version=\"1.0\" encoding=\"utf-8\" standalone=\"no\"?>\r\n<!DOCTYPE svg PUBLIC \"-//W3C//DTD SVG 1.1//EN\"\r\n  \"http://www.w3.org/Graphics/SVG/1.1/DTD/svg11.dtd\">\r\n<!-- Created with matplotlib (https://matplotlib.org/) -->\r\n<svg height=\"248.518125pt\" version=\"1.1\" viewBox=\"0 0 372.103125 248.518125\" width=\"372.103125pt\" xmlns=\"http://www.w3.org/2000/svg\" xmlns:xlink=\"http://www.w3.org/1999/xlink\">\r\n <defs>\r\n  <style type=\"text/css\">\r\n*{stroke-linecap:butt;stroke-linejoin:round;}\r\n  </style>\r\n </defs>\r\n <g id=\"figure_1\">\r\n  <g id=\"patch_1\">\r\n   <path d=\"M 0 248.518125 \r\nL 372.103125 248.518125 \r\nL 372.103125 0 \r\nL 0 0 \r\nz\r\n\" style=\"fill:none;\"/>\r\n  </g>\r\n  <g id=\"axes_1\">\r\n   <g id=\"patch_2\">\r\n    <path d=\"M 30.103125 224.64 \r\nL 364.903125 224.64 \r\nL 364.903125 7.2 \r\nL 30.103125 7.2 \r\nz\r\n\" style=\"fill:#ffffff;\"/>\r\n   </g>\r\n   <g id=\"matplotlib.axis_1\">\r\n    <g id=\"xtick_1\">\r\n     <g id=\"line2d_1\">\r\n      <defs>\r\n       <path d=\"M 0 0 \r\nL 0 3.5 \r\n\" id=\"mc5a78f9853\" style=\"stroke:#000000;stroke-width:0.8;\"/>\r\n      </defs>\r\n      <g>\r\n       <use style=\"stroke:#000000;stroke-width:0.8;\" x=\"45.321307\" xlink:href=\"#mc5a78f9853\" y=\"224.64\"/>\r\n      </g>\r\n     </g>\r\n     <g id=\"text_1\">\r\n      <!-- 0 -->\r\n      <defs>\r\n       <path d=\"M 31.78125 66.40625 \r\nQ 24.171875 66.40625 20.328125 58.90625 \r\nQ 16.5 51.421875 16.5 36.375 \r\nQ 16.5 21.390625 20.328125 13.890625 \r\nQ 24.171875 6.390625 31.78125 6.390625 \r\nQ 39.453125 6.390625 43.28125 13.890625 \r\nQ 47.125 21.390625 47.125 36.375 \r\nQ 47.125 51.421875 43.28125 58.90625 \r\nQ 39.453125 66.40625 31.78125 66.40625 \r\nz\r\nM 31.78125 74.21875 \r\nQ 44.046875 74.21875 50.515625 64.515625 \r\nQ 56.984375 54.828125 56.984375 36.375 \r\nQ 56.984375 17.96875 50.515625 8.265625 \r\nQ 44.046875 -1.421875 31.78125 -1.421875 \r\nQ 19.53125 -1.421875 13.0625 8.265625 \r\nQ 6.59375 17.96875 6.59375 36.375 \r\nQ 6.59375 54.828125 13.0625 64.515625 \r\nQ 19.53125 74.21875 31.78125 74.21875 \r\nz\r\n\" id=\"DejaVuSans-48\"/>\r\n      </defs>\r\n      <g transform=\"translate(42.140057 239.238437)scale(0.1 -0.1)\">\r\n       <use xlink:href=\"#DejaVuSans-48\"/>\r\n      </g>\r\n     </g>\r\n    </g>\r\n    <g id=\"xtick_2\">\r\n     <g id=\"line2d_2\">\r\n      <g>\r\n       <use style=\"stroke:#000000;stroke-width:0.8;\" x=\"85.581047\" xlink:href=\"#mc5a78f9853\" y=\"224.64\"/>\r\n      </g>\r\n     </g>\r\n     <g id=\"text_2\">\r\n      <!-- 25 -->\r\n      <defs>\r\n       <path d=\"M 19.1875 8.296875 \r\nL 53.609375 8.296875 \r\nL 53.609375 0 \r\nL 7.328125 0 \r\nL 7.328125 8.296875 \r\nQ 12.9375 14.109375 22.625 23.890625 \r\nQ 32.328125 33.6875 34.8125 36.53125 \r\nQ 39.546875 41.84375 41.421875 45.53125 \r\nQ 43.3125 49.21875 43.3125 52.78125 \r\nQ 43.3125 58.59375 39.234375 62.25 \r\nQ 35.15625 65.921875 28.609375 65.921875 \r\nQ 23.96875 65.921875 18.8125 64.3125 \r\nQ 13.671875 62.703125 7.8125 59.421875 \r\nL 7.8125 69.390625 \r\nQ 13.765625 71.78125 18.9375 73 \r\nQ 24.125 74.21875 28.421875 74.21875 \r\nQ 39.75 74.21875 46.484375 68.546875 \r\nQ 53.21875 62.890625 53.21875 53.421875 \r\nQ 53.21875 48.921875 51.53125 44.890625 \r\nQ 49.859375 40.875 45.40625 35.40625 \r\nQ 44.1875 33.984375 37.640625 27.21875 \r\nQ 31.109375 20.453125 19.1875 8.296875 \r\nz\r\n\" id=\"DejaVuSans-50\"/>\r\n       <path d=\"M 10.796875 72.90625 \r\nL 49.515625 72.90625 \r\nL 49.515625 64.59375 \r\nL 19.828125 64.59375 \r\nL 19.828125 46.734375 \r\nQ 21.96875 47.46875 24.109375 47.828125 \r\nQ 26.265625 48.1875 28.421875 48.1875 \r\nQ 40.625 48.1875 47.75 41.5 \r\nQ 54.890625 34.8125 54.890625 23.390625 \r\nQ 54.890625 11.625 47.5625 5.09375 \r\nQ 40.234375 -1.421875 26.90625 -1.421875 \r\nQ 22.3125 -1.421875 17.546875 -0.640625 \r\nQ 12.796875 0.140625 7.71875 1.703125 \r\nL 7.71875 11.625 \r\nQ 12.109375 9.234375 16.796875 8.0625 \r\nQ 21.484375 6.890625 26.703125 6.890625 \r\nQ 35.15625 6.890625 40.078125 11.328125 \r\nQ 45.015625 15.765625 45.015625 23.390625 \r\nQ 45.015625 31 40.078125 35.4375 \r\nQ 35.15625 39.890625 26.703125 39.890625 \r\nQ 22.75 39.890625 18.8125 39.015625 \r\nQ 14.890625 38.140625 10.796875 36.28125 \r\nz\r\n\" id=\"DejaVuSans-53\"/>\r\n      </defs>\r\n      <g transform=\"translate(79.218547 239.238437)scale(0.1 -0.1)\">\r\n       <use xlink:href=\"#DejaVuSans-50\"/>\r\n       <use x=\"63.623047\" xlink:href=\"#DejaVuSans-53\"/>\r\n      </g>\r\n     </g>\r\n    </g>\r\n    <g id=\"xtick_3\">\r\n     <g id=\"line2d_3\">\r\n      <g>\r\n       <use style=\"stroke:#000000;stroke-width:0.8;\" x=\"125.840787\" xlink:href=\"#mc5a78f9853\" y=\"224.64\"/>\r\n      </g>\r\n     </g>\r\n     <g id=\"text_3\">\r\n      <!-- 50 -->\r\n      <g transform=\"translate(119.478287 239.238437)scale(0.1 -0.1)\">\r\n       <use xlink:href=\"#DejaVuSans-53\"/>\r\n       <use x=\"63.623047\" xlink:href=\"#DejaVuSans-48\"/>\r\n      </g>\r\n     </g>\r\n    </g>\r\n    <g id=\"xtick_4\">\r\n     <g id=\"line2d_4\">\r\n      <g>\r\n       <use style=\"stroke:#000000;stroke-width:0.8;\" x=\"166.100528\" xlink:href=\"#mc5a78f9853\" y=\"224.64\"/>\r\n      </g>\r\n     </g>\r\n     <g id=\"text_4\">\r\n      <!-- 75 -->\r\n      <defs>\r\n       <path d=\"M 8.203125 72.90625 \r\nL 55.078125 72.90625 \r\nL 55.078125 68.703125 \r\nL 28.609375 0 \r\nL 18.3125 0 \r\nL 43.21875 64.59375 \r\nL 8.203125 64.59375 \r\nz\r\n\" id=\"DejaVuSans-55\"/>\r\n      </defs>\r\n      <g transform=\"translate(159.738028 239.238437)scale(0.1 -0.1)\">\r\n       <use xlink:href=\"#DejaVuSans-55\"/>\r\n       <use x=\"63.623047\" xlink:href=\"#DejaVuSans-53\"/>\r\n      </g>\r\n     </g>\r\n    </g>\r\n    <g id=\"xtick_5\">\r\n     <g id=\"line2d_5\">\r\n      <g>\r\n       <use style=\"stroke:#000000;stroke-width:0.8;\" x=\"206.360268\" xlink:href=\"#mc5a78f9853\" y=\"224.64\"/>\r\n      </g>\r\n     </g>\r\n     <g id=\"text_5\">\r\n      <!-- 100 -->\r\n      <defs>\r\n       <path d=\"M 12.40625 8.296875 \r\nL 28.515625 8.296875 \r\nL 28.515625 63.921875 \r\nL 10.984375 60.40625 \r\nL 10.984375 69.390625 \r\nL 28.421875 72.90625 \r\nL 38.28125 72.90625 \r\nL 38.28125 8.296875 \r\nL 54.390625 8.296875 \r\nL 54.390625 0 \r\nL 12.40625 0 \r\nz\r\n\" id=\"DejaVuSans-49\"/>\r\n      </defs>\r\n      <g transform=\"translate(196.816518 239.238437)scale(0.1 -0.1)\">\r\n       <use xlink:href=\"#DejaVuSans-49\"/>\r\n       <use x=\"63.623047\" xlink:href=\"#DejaVuSans-48\"/>\r\n       <use x=\"127.246094\" xlink:href=\"#DejaVuSans-48\"/>\r\n      </g>\r\n     </g>\r\n    </g>\r\n    <g id=\"xtick_6\">\r\n     <g id=\"line2d_6\">\r\n      <g>\r\n       <use style=\"stroke:#000000;stroke-width:0.8;\" x=\"246.620008\" xlink:href=\"#mc5a78f9853\" y=\"224.64\"/>\r\n      </g>\r\n     </g>\r\n     <g id=\"text_6\">\r\n      <!-- 125 -->\r\n      <g transform=\"translate(237.076258 239.238437)scale(0.1 -0.1)\">\r\n       <use xlink:href=\"#DejaVuSans-49\"/>\r\n       <use x=\"63.623047\" xlink:href=\"#DejaVuSans-50\"/>\r\n       <use x=\"127.246094\" xlink:href=\"#DejaVuSans-53\"/>\r\n      </g>\r\n     </g>\r\n    </g>\r\n    <g id=\"xtick_7\">\r\n     <g id=\"line2d_7\">\r\n      <g>\r\n       <use style=\"stroke:#000000;stroke-width:0.8;\" x=\"286.879748\" xlink:href=\"#mc5a78f9853\" y=\"224.64\"/>\r\n      </g>\r\n     </g>\r\n     <g id=\"text_7\">\r\n      <!-- 150 -->\r\n      <g transform=\"translate(277.335998 239.238437)scale(0.1 -0.1)\">\r\n       <use xlink:href=\"#DejaVuSans-49\"/>\r\n       <use x=\"63.623047\" xlink:href=\"#DejaVuSans-53\"/>\r\n       <use x=\"127.246094\" xlink:href=\"#DejaVuSans-48\"/>\r\n      </g>\r\n     </g>\r\n    </g>\r\n    <g id=\"xtick_8\">\r\n     <g id=\"line2d_8\">\r\n      <g>\r\n       <use style=\"stroke:#000000;stroke-width:0.8;\" x=\"327.139489\" xlink:href=\"#mc5a78f9853\" y=\"224.64\"/>\r\n      </g>\r\n     </g>\r\n     <g id=\"text_8\">\r\n      <!-- 175 -->\r\n      <g transform=\"translate(317.595739 239.238437)scale(0.1 -0.1)\">\r\n       <use xlink:href=\"#DejaVuSans-49\"/>\r\n       <use x=\"63.623047\" xlink:href=\"#DejaVuSans-55\"/>\r\n       <use x=\"127.246094\" xlink:href=\"#DejaVuSans-53\"/>\r\n      </g>\r\n     </g>\r\n    </g>\r\n   </g>\r\n   <g id=\"matplotlib.axis_2\">\r\n    <g id=\"ytick_1\">\r\n     <g id=\"line2d_9\">\r\n      <defs>\r\n       <path d=\"M 0 0 \r\nL -3.5 0 \r\n\" id=\"m0ec5971ed7\" style=\"stroke:#000000;stroke-width:0.8;\"/>\r\n      </defs>\r\n      <g>\r\n       <use style=\"stroke:#000000;stroke-width:0.8;\" x=\"30.103125\" xlink:href=\"#m0ec5971ed7\" y=\"189.642209\"/>\r\n      </g>\r\n     </g>\r\n     <g id=\"text_9\">\r\n      <!-- 0.6 -->\r\n      <defs>\r\n       <path d=\"M 10.6875 12.40625 \r\nL 21 12.40625 \r\nL 21 0 \r\nL 10.6875 0 \r\nz\r\n\" id=\"DejaVuSans-46\"/>\r\n       <path d=\"M 33.015625 40.375 \r\nQ 26.375 40.375 22.484375 35.828125 \r\nQ 18.609375 31.296875 18.609375 23.390625 \r\nQ 18.609375 15.53125 22.484375 10.953125 \r\nQ 26.375 6.390625 33.015625 6.390625 \r\nQ 39.65625 6.390625 43.53125 10.953125 \r\nQ 47.40625 15.53125 47.40625 23.390625 \r\nQ 47.40625 31.296875 43.53125 35.828125 \r\nQ 39.65625 40.375 33.015625 40.375 \r\nz\r\nM 52.59375 71.296875 \r\nL 52.59375 62.3125 \r\nQ 48.875 64.0625 45.09375 64.984375 \r\nQ 41.3125 65.921875 37.59375 65.921875 \r\nQ 27.828125 65.921875 22.671875 59.328125 \r\nQ 17.53125 52.734375 16.796875 39.40625 \r\nQ 19.671875 43.65625 24.015625 45.921875 \r\nQ 28.375 48.1875 33.59375 48.1875 \r\nQ 44.578125 48.1875 50.953125 41.515625 \r\nQ 57.328125 34.859375 57.328125 23.390625 \r\nQ 57.328125 12.15625 50.6875 5.359375 \r\nQ 44.046875 -1.421875 33.015625 -1.421875 \r\nQ 20.359375 -1.421875 13.671875 8.265625 \r\nQ 6.984375 17.96875 6.984375 36.375 \r\nQ 6.984375 53.65625 15.1875 63.9375 \r\nQ 23.390625 74.21875 37.203125 74.21875 \r\nQ 40.921875 74.21875 44.703125 73.484375 \r\nQ 48.484375 72.75 52.59375 71.296875 \r\nz\r\n\" id=\"DejaVuSans-54\"/>\r\n      </defs>\r\n      <g transform=\"translate(7.2 193.441427)scale(0.1 -0.1)\">\r\n       <use xlink:href=\"#DejaVuSans-48\"/>\r\n       <use x=\"63.623047\" xlink:href=\"#DejaVuSans-46\"/>\r\n       <use x=\"95.410156\" xlink:href=\"#DejaVuSans-54\"/>\r\n      </g>\r\n     </g>\r\n    </g>\r\n    <g id=\"ytick_2\">\r\n     <g id=\"line2d_10\">\r\n      <g>\r\n       <use style=\"stroke:#000000;stroke-width:0.8;\" x=\"30.103125\" xlink:href=\"#m0ec5971ed7\" y=\"146.198767\"/>\r\n      </g>\r\n     </g>\r\n     <g id=\"text_10\">\r\n      <!-- 0.7 -->\r\n      <g transform=\"translate(7.2 149.997986)scale(0.1 -0.1)\">\r\n       <use xlink:href=\"#DejaVuSans-48\"/>\r\n       <use x=\"63.623047\" xlink:href=\"#DejaVuSans-46\"/>\r\n       <use x=\"95.410156\" xlink:href=\"#DejaVuSans-55\"/>\r\n      </g>\r\n     </g>\r\n    </g>\r\n    <g id=\"ytick_3\">\r\n     <g id=\"line2d_11\">\r\n      <g>\r\n       <use style=\"stroke:#000000;stroke-width:0.8;\" x=\"30.103125\" xlink:href=\"#m0ec5971ed7\" y=\"102.755326\"/>\r\n      </g>\r\n     </g>\r\n     <g id=\"text_11\">\r\n      <!-- 0.8 -->\r\n      <defs>\r\n       <path d=\"M 31.78125 34.625 \r\nQ 24.75 34.625 20.71875 30.859375 \r\nQ 16.703125 27.09375 16.703125 20.515625 \r\nQ 16.703125 13.921875 20.71875 10.15625 \r\nQ 24.75 6.390625 31.78125 6.390625 \r\nQ 38.8125 6.390625 42.859375 10.171875 \r\nQ 46.921875 13.96875 46.921875 20.515625 \r\nQ 46.921875 27.09375 42.890625 30.859375 \r\nQ 38.875 34.625 31.78125 34.625 \r\nz\r\nM 21.921875 38.8125 \r\nQ 15.578125 40.375 12.03125 44.71875 \r\nQ 8.5 49.078125 8.5 55.328125 \r\nQ 8.5 64.0625 14.71875 69.140625 \r\nQ 20.953125 74.21875 31.78125 74.21875 \r\nQ 42.671875 74.21875 48.875 69.140625 \r\nQ 55.078125 64.0625 55.078125 55.328125 \r\nQ 55.078125 49.078125 51.53125 44.71875 \r\nQ 48 40.375 41.703125 38.8125 \r\nQ 48.828125 37.15625 52.796875 32.3125 \r\nQ 56.78125 27.484375 56.78125 20.515625 \r\nQ 56.78125 9.90625 50.3125 4.234375 \r\nQ 43.84375 -1.421875 31.78125 -1.421875 \r\nQ 19.734375 -1.421875 13.25 4.234375 \r\nQ 6.78125 9.90625 6.78125 20.515625 \r\nQ 6.78125 27.484375 10.78125 32.3125 \r\nQ 14.796875 37.15625 21.921875 38.8125 \r\nz\r\nM 18.3125 54.390625 \r\nQ 18.3125 48.734375 21.84375 45.5625 \r\nQ 25.390625 42.390625 31.78125 42.390625 \r\nQ 38.140625 42.390625 41.71875 45.5625 \r\nQ 45.3125 48.734375 45.3125 54.390625 \r\nQ 45.3125 60.0625 41.71875 63.234375 \r\nQ 38.140625 66.40625 31.78125 66.40625 \r\nQ 25.390625 66.40625 21.84375 63.234375 \r\nQ 18.3125 60.0625 18.3125 54.390625 \r\nz\r\n\" id=\"DejaVuSans-56\"/>\r\n      </defs>\r\n      <g transform=\"translate(7.2 106.554544)scale(0.1 -0.1)\">\r\n       <use xlink:href=\"#DejaVuSans-48\"/>\r\n       <use x=\"63.623047\" xlink:href=\"#DejaVuSans-46\"/>\r\n       <use x=\"95.410156\" xlink:href=\"#DejaVuSans-56\"/>\r\n      </g>\r\n     </g>\r\n    </g>\r\n    <g id=\"ytick_4\">\r\n     <g id=\"line2d_12\">\r\n      <g>\r\n       <use style=\"stroke:#000000;stroke-width:0.8;\" x=\"30.103125\" xlink:href=\"#m0ec5971ed7\" y=\"59.311884\"/>\r\n      </g>\r\n     </g>\r\n     <g id=\"text_12\">\r\n      <!-- 0.9 -->\r\n      <defs>\r\n       <path d=\"M 10.984375 1.515625 \r\nL 10.984375 10.5 \r\nQ 14.703125 8.734375 18.5 7.8125 \r\nQ 22.3125 6.890625 25.984375 6.890625 \r\nQ 35.75 6.890625 40.890625 13.453125 \r\nQ 46.046875 20.015625 46.78125 33.40625 \r\nQ 43.953125 29.203125 39.59375 26.953125 \r\nQ 35.25 24.703125 29.984375 24.703125 \r\nQ 19.046875 24.703125 12.671875 31.3125 \r\nQ 6.296875 37.9375 6.296875 49.421875 \r\nQ 6.296875 60.640625 12.9375 67.421875 \r\nQ 19.578125 74.21875 30.609375 74.21875 \r\nQ 43.265625 74.21875 49.921875 64.515625 \r\nQ 56.59375 54.828125 56.59375 36.375 \r\nQ 56.59375 19.140625 48.40625 8.859375 \r\nQ 40.234375 -1.421875 26.421875 -1.421875 \r\nQ 22.703125 -1.421875 18.890625 -0.6875 \r\nQ 15.09375 0.046875 10.984375 1.515625 \r\nz\r\nM 30.609375 32.421875 \r\nQ 37.25 32.421875 41.125 36.953125 \r\nQ 45.015625 41.5 45.015625 49.421875 \r\nQ 45.015625 57.28125 41.125 61.84375 \r\nQ 37.25 66.40625 30.609375 66.40625 \r\nQ 23.96875 66.40625 20.09375 61.84375 \r\nQ 16.21875 57.28125 16.21875 49.421875 \r\nQ 16.21875 41.5 20.09375 36.953125 \r\nQ 23.96875 32.421875 30.609375 32.421875 \r\nz\r\n\" id=\"DejaVuSans-57\"/>\r\n      </defs>\r\n      <g transform=\"translate(7.2 63.111103)scale(0.1 -0.1)\">\r\n       <use xlink:href=\"#DejaVuSans-48\"/>\r\n       <use x=\"63.623047\" xlink:href=\"#DejaVuSans-46\"/>\r\n       <use x=\"95.410156\" xlink:href=\"#DejaVuSans-57\"/>\r\n      </g>\r\n     </g>\r\n    </g>\r\n    <g id=\"ytick_5\">\r\n     <g id=\"line2d_13\">\r\n      <g>\r\n       <use style=\"stroke:#000000;stroke-width:0.8;\" x=\"30.103125\" xlink:href=\"#m0ec5971ed7\" y=\"15.868442\"/>\r\n      </g>\r\n     </g>\r\n     <g id=\"text_13\">\r\n      <!-- 1.0 -->\r\n      <g transform=\"translate(7.2 19.667661)scale(0.1 -0.1)\">\r\n       <use xlink:href=\"#DejaVuSans-49\"/>\r\n       <use x=\"63.623047\" xlink:href=\"#DejaVuSans-46\"/>\r\n       <use x=\"95.410156\" xlink:href=\"#DejaVuSans-48\"/>\r\n      </g>\r\n     </g>\r\n    </g>\r\n   </g>\r\n   <g id=\"line2d_14\">\r\n    <path clip-path=\"url(#p5cde9bc3d2)\" d=\"M 45.321307 214.756364 \r\nL 46.931696 156.629233 \r\nL 48.542086 118.958011 \r\nL 50.152476 101.742646 \r\nL 51.762865 88.983044 \r\nL 53.373255 79.86905 \r\nL 54.983644 72.982898 \r\nL 56.594034 65.286618 \r\nL 58.204424 61.64101 \r\nL 59.814813 57.590337 \r\nL 61.425203 57.185272 \r\nL 63.035593 55.565014 \r\nL 64.645982 49.083953 \r\nL 67.866761 41.792737 \r\nL 69.477151 41.387672 \r\nL 71.087541 39.767388 \r\nL 72.69793 37.337 \r\nL 74.30832 37.742064 \r\nL 75.918709 33.691392 \r\nL 77.529099 30.855913 \r\nL 79.139489 31.463523 \r\nL 80.749878 29.4382 \r\nL 82.360268 29.4382 \r\nL 83.970657 31.666068 \r\nL 85.581047 26.602721 \r\nL 87.191437 26.80524 \r\nL 88.801826 24.982462 \r\nL 90.412216 24.779917 \r\nL 92.022606 24.374852 \r\nL 93.632995 23.767242 \r\nL 95.243385 23.767242 \r\nL 96.853774 23.564723 \r\nL 98.464164 24.577372 \r\nL 100.074554 22.552048 \r\nL 101.684943 22.349503 \r\nL 103.295333 20.729244 \r\nL 104.905722 21.134309 \r\nL 106.516112 25.387527 \r\nL 108.126502 22.349503 \r\nL 109.736891 20.32418 \r\nL 111.347281 20.32418 \r\nL 112.95767 20.526725 \r\nL 116.17845 31.666068 \r\nL 117.788839 22.754594 \r\nL 119.399229 19.71657 \r\nL 121.009619 19.919115 \r\nL 122.620008 19.71657 \r\nL 124.230398 18.501376 \r\nL 125.840787 18.703921 \r\nL 127.451177 18.703921 \r\nL 129.061567 18.90644 \r\nL 130.671956 18.90644 \r\nL 132.282346 19.311505 \r\nL 133.892735 18.298856 \r\nL 135.503125 19.919115 \r\nL 137.113515 18.501376 \r\nL 138.723904 17.893766 \r\nL 141.944683 17.893766 \r\nL 145.165463 18.298856 \r\nL 146.775852 18.298856 \r\nL 148.386242 23.159658 \r\nL 149.996631 18.501376 \r\nL 151.607021 18.703921 \r\nL 153.217411 18.298856 \r\nL 154.8278 18.096311 \r\nL 156.43819 24.982462 \r\nL 158.04858 22.349503 \r\nL 159.658969 26.400176 \r\nL 161.269359 18.501376 \r\nL 162.879748 17.893766 \r\nL 164.490138 17.691246 \r\nL 167.710917 17.691246 \r\nL 169.321307 17.893766 \r\nL 170.931696 18.501376 \r\nL 172.542086 17.893766 \r\nL 174.152476 17.691246 \r\nL 175.762865 17.893766 \r\nL 177.373255 17.691246 \r\nL 178.983644 17.893766 \r\nL 180.594034 17.488701 \r\nL 182.204424 18.096311 \r\nL 183.814813 17.691246 \r\nL 185.425203 17.893766 \r\nL 187.035593 17.488701 \r\nL 188.645982 17.488701 \r\nL 190.256372 17.286182 \r\nL 191.866761 17.488701 \r\nL 193.477151 17.488701 \r\nL 195.087541 17.893766 \r\nL 196.69793 17.893766 \r\nL 198.30832 19.108986 \r\nL 199.918709 17.691246 \r\nL 201.529099 17.488701 \r\nL 203.139489 17.893766 \r\nL 204.749878 17.488701 \r\nL 206.360268 17.691246 \r\nL 207.970657 17.691246 \r\nL 209.581047 17.893766 \r\nL 211.191437 17.691246 \r\nL 212.801826 17.286182 \r\nL 214.412216 17.488701 \r\nL 216.022606 18.096311 \r\nL 217.632995 17.488701 \r\nL 219.243385 17.488701 \r\nL 220.853774 19.311505 \r\nL 222.464164 30.855913 \r\nL 224.074554 19.71657 \r\nL 227.295333 18.501376 \r\nL 228.905722 17.691246 \r\nL 230.516112 17.488701 \r\nL 232.126502 18.096311 \r\nL 233.736891 17.488701 \r\nL 235.347281 18.298856 \r\nL 236.95767 18.298856 \r\nL 238.56806 17.691246 \r\nL 240.17845 17.893766 \r\nL 241.788839 17.488701 \r\nL 243.399229 18.501376 \r\nL 245.009619 18.096311 \r\nL 246.620008 17.893766 \r\nL 248.230398 17.488701 \r\nL 251.451177 18.298856 \r\nL 253.061567 17.691246 \r\nL 254.671956 17.691246 \r\nL 256.282346 18.90644 \r\nL 257.892735 19.51405 \r\nL 259.503125 18.501376 \r\nL 261.113515 17.691246 \r\nL 262.723904 17.893766 \r\nL 264.334294 17.893766 \r\nL 265.944683 17.488701 \r\nL 267.555073 17.691246 \r\nL 269.165463 18.096311 \r\nL 270.775852 17.488701 \r\nL 272.386242 18.096311 \r\nL 275.607021 17.691246 \r\nL 277.217411 17.691246 \r\nL 278.8278 18.298856 \r\nL 280.43819 17.893766 \r\nL 282.04858 18.096311 \r\nL 283.658969 17.488701 \r\nL 286.879748 17.893766 \r\nL 288.490138 17.893766 \r\nL 290.100528 18.096311 \r\nL 291.710917 17.488701 \r\nL 293.321307 17.691246 \r\nL 294.931696 18.501376 \r\nL 296.542086 20.121634 \r\nL 298.152476 24.577372 \r\nL 299.762865 19.919115 \r\nL 301.373255 18.90644 \r\nL 302.983644 17.488701 \r\nL 304.594034 17.488701 \r\nL 306.204424 17.691246 \r\nL 307.814813 17.691246 \r\nL 309.425203 17.083636 \r\nL 311.035593 17.691246 \r\nL 312.645982 18.096311 \r\nL 314.256372 17.488701 \r\nL 315.866761 18.096311 \r\nL 317.477151 17.893766 \r\nL 319.087541 17.488701 \r\nL 320.69793 17.488701 \r\nL 322.30832 18.501376 \r\nL 323.918709 17.893766 \r\nL 325.529099 17.691246 \r\nL 327.139489 17.286182 \r\nL 328.749878 17.893766 \r\nL 330.360268 17.488701 \r\nL 331.970657 17.893766 \r\nL 333.581047 17.286182 \r\nL 335.191437 17.691246 \r\nL 336.801826 17.083636 \r\nL 338.412216 19.311505 \r\nL 340.022606 20.729244 \r\nL 341.632995 19.108986 \r\nL 343.243385 17.893766 \r\nL 344.853774 17.691246 \r\nL 346.464164 17.893766 \r\nL 348.074554 17.691246 \r\nL 349.684943 17.286182 \r\nL 349.684943 17.286182 \r\n\" style=\"fill:none;stroke:#1f77b4;stroke-linecap:square;stroke-width:1.5;\"/>\r\n   </g>\r\n   <g id=\"line2d_15\">\r\n    <path clip-path=\"url(#p5cde9bc3d2)\" d=\"M 45.321307 181.280719 \r\nL 46.931696 117.660603 \r\nL 48.542086 95.847988 \r\nL 50.152476 68.582238 \r\nL 51.762865 64.946807 \r\nL 53.373255 64.946807 \r\nL 54.983644 66.764535 \r\nL 56.594034 57.675944 \r\nL 58.204424 55.858215 \r\nL 59.814813 70.399967 \r\nL 61.425203 63.129078 \r\nL 63.035593 52.222783 \r\nL 64.645982 52.222783 \r\nL 66.256372 48.587352 \r\nL 67.866761 55.858215 \r\nL 69.477151 61.311375 \r\nL 71.087541 52.222783 \r\nL 72.69793 52.222783 \r\nL 74.30832 48.587352 \r\nL 75.918709 43.134192 \r\nL 77.529099 54.040512 \r\nL 79.139489 55.858215 \r\nL 80.749878 48.587352 \r\nL 82.360268 52.222783 \r\nL 83.970657 48.587352 \r\nL 85.581047 52.222783 \r\nL 87.191437 48.587352 \r\nL 88.801826 50.405081 \r\nL 90.412216 43.134192 \r\nL 92.022606 50.405081 \r\nL 93.632995 44.95192 \r\nL 95.243385 48.587352 \r\nL 96.853774 46.769623 \r\nL 98.464164 52.222783 \r\nL 100.074554 44.95192 \r\nL 103.295333 44.95192 \r\nL 104.905722 50.405081 \r\nL 106.516112 52.222783 \r\nL 108.126502 39.49876 \r\nL 109.736891 46.769623 \r\nL 111.347281 41.316489 \r\nL 112.95767 46.769623 \r\nL 114.56806 48.587352 \r\nL 116.17845 54.040512 \r\nL 117.788839 44.95192 \r\nL 119.399229 39.49876 \r\nL 121.009619 44.95192 \r\nL 122.620008 44.95192 \r\nL 124.230398 41.316489 \r\nL 125.840787 41.316489 \r\nL 127.451177 43.134192 \r\nL 129.061567 41.316489 \r\nL 130.671956 44.95192 \r\nL 133.892735 44.95192 \r\nL 135.503125 43.134192 \r\nL 137.113515 44.95192 \r\nL 138.723904 37.681057 \r\nL 140.334294 43.134192 \r\nL 141.944683 39.49876 \r\nL 145.165463 39.49876 \r\nL 146.775852 48.587352 \r\nL 148.386242 39.49876 \r\nL 151.607021 43.134192 \r\nL 153.217411 43.134192 \r\nL 158.04858 59.493646 \r\nL 159.658969 44.95192 \r\nL 161.269359 41.316489 \r\nL 162.879748 41.316489 \r\nL 164.490138 39.49876 \r\nL 166.100528 43.134192 \r\nL 167.710917 43.134192 \r\nL 169.321307 37.681057 \r\nL 170.931696 39.49876 \r\nL 172.542086 37.681057 \r\nL 178.983644 37.681057 \r\nL 180.594034 39.49876 \r\nL 182.204424 35.863329 \r\nL 183.814813 35.863329 \r\nL 185.425203 43.134192 \r\nL 187.035593 39.49876 \r\nL 188.645982 39.49876 \r\nL 191.866761 35.863329 \r\nL 195.087541 35.863329 \r\nL 196.69793 37.681057 \r\nL 198.30832 43.134192 \r\nL 199.918709 41.316489 \r\nL 201.529099 44.95192 \r\nL 203.139489 39.49876 \r\nL 204.749878 37.681057 \r\nL 207.970657 37.681057 \r\nL 209.581047 35.863329 \r\nL 211.191437 43.134192 \r\nL 212.801826 37.681057 \r\nL 214.412216 37.681057 \r\nL 216.022606 39.49876 \r\nL 217.632995 39.49876 \r\nL 219.243385 46.769623 \r\nL 220.853774 64.946807 \r\nL 222.464164 44.95192 \r\nL 224.074554 43.134192 \r\nL 225.684943 37.681057 \r\nL 227.295333 35.863329 \r\nL 228.905722 35.863329 \r\nL 230.516112 41.316489 \r\nL 232.126502 37.681057 \r\nL 233.736891 37.681057 \r\nL 236.95767 34.045626 \r\nL 238.56806 39.49876 \r\nL 240.17845 35.863329 \r\nL 241.788839 39.49876 \r\nL 243.399229 35.863329 \r\nL 245.009619 34.045626 \r\nL 246.620008 34.045626 \r\nL 248.230398 39.49876 \r\nL 249.840787 39.49876 \r\nL 251.451177 43.134192 \r\nL 253.061567 35.863329 \r\nL 254.671956 34.045626 \r\nL 256.282346 46.769623 \r\nL 257.892735 39.49876 \r\nL 259.503125 39.49876 \r\nL 261.113515 41.316489 \r\nL 267.555073 41.316489 \r\nL 269.165463 43.134192 \r\nL 272.386242 39.49876 \r\nL 273.996631 41.316489 \r\nL 275.607021 41.316489 \r\nL 277.217411 39.49876 \r\nL 278.8278 41.316489 \r\nL 280.43819 39.49876 \r\nL 282.04858 39.49876 \r\nL 283.658969 41.316489 \r\nL 286.879748 41.316489 \r\nL 288.490138 39.49876 \r\nL 291.710917 39.49876 \r\nL 293.321307 37.681057 \r\nL 294.931696 41.316489 \r\nL 296.542086 54.040512 \r\nL 298.152476 39.49876 \r\nL 299.762865 41.316489 \r\nL 302.983644 37.681057 \r\nL 304.594034 39.49876 \r\nL 307.814813 35.863329 \r\nL 309.425203 43.134192 \r\nL 311.035593 41.316489 \r\nL 312.645982 41.316489 \r\nL 314.256372 37.681057 \r\nL 315.866761 37.681057 \r\nL 317.477151 41.316489 \r\nL 319.087541 39.49876 \r\nL 320.69793 41.316489 \r\nL 322.30832 41.316489 \r\nL 323.918709 35.863329 \r\nL 325.529099 41.316489 \r\nL 327.139489 37.681057 \r\nL 328.749878 41.316489 \r\nL 331.970657 37.681057 \r\nL 333.581047 41.316489 \r\nL 335.191437 41.316489 \r\nL 336.801826 39.49876 \r\nL 338.412216 39.49876 \r\nL 340.022606 43.134192 \r\nL 343.243385 39.49876 \r\nL 344.853774 39.49876 \r\nL 346.464164 41.316489 \r\nL 348.074554 44.95192 \r\nL 349.684943 43.134192 \r\nL 349.684943 43.134192 \r\n\" style=\"fill:none;stroke:#ff7f0e;stroke-linecap:square;stroke-width:1.5;\"/>\r\n   </g>\r\n   <g id=\"patch_3\">\r\n    <path d=\"M 30.103125 224.64 \r\nL 30.103125 7.2 \r\n\" style=\"fill:none;stroke:#000000;stroke-linecap:square;stroke-linejoin:miter;stroke-width:0.8;\"/>\r\n   </g>\r\n   <g id=\"patch_4\">\r\n    <path d=\"M 364.903125 224.64 \r\nL 364.903125 7.2 \r\n\" style=\"fill:none;stroke:#000000;stroke-linecap:square;stroke-linejoin:miter;stroke-width:0.8;\"/>\r\n   </g>\r\n   <g id=\"patch_5\">\r\n    <path d=\"M 30.103125 224.64 \r\nL 364.903125 224.64 \r\n\" style=\"fill:none;stroke:#000000;stroke-linecap:square;stroke-linejoin:miter;stroke-width:0.8;\"/>\r\n   </g>\r\n   <g id=\"patch_6\">\r\n    <path d=\"M 30.103125 7.2 \r\nL 364.903125 7.2 \r\n\" style=\"fill:none;stroke:#000000;stroke-linecap:square;stroke-linejoin:miter;stroke-width:0.8;\"/>\r\n   </g>\r\n  </g>\r\n </g>\r\n <defs>\r\n  <clipPath id=\"p5cde9bc3d2\">\r\n   <rect height=\"217.44\" width=\"334.8\" x=\"30.103125\" y=\"7.2\"/>\r\n  </clipPath>\r\n </defs>\r\n</svg>\r\n",
      "image/png": "[encoded data removed]"
     },
     "metadata": {
      "needs_background": "light"
     }
    }
   ],
   "source": [
    "plt.plot(history.history['accuracy'])\n",
    "plt.plot(history.history['val_accuracy'])\n",
    "plt.show()"
   ]
  },
  {
   "cell_type": "markdown",
   "metadata": {},
   "source": [
    "# Evaluate with a test set."
   ]
  },
  {
   "cell_type": "code",
   "execution_count": 16,
   "metadata": {},
   "outputs": [
    {
     "output_type": "error",
     "ename": "AttributeError",
     "evalue": "'list' object has no attribute 'argmax'",
     "traceback": [
      "\u001b[1;31m---------------------------------------------------------------------------\u001b[0m",
      "\u001b[1;31mAttributeError\u001b[0m                            Traceback (most recent call last)",
      "\u001b[1;32m<ipython-input-16-a023f14b4ed1>\u001b[0m in \u001b[0;36m<module>\u001b[1;34m\u001b[0m\n\u001b[0;32m      2\u001b[0m \u001b[0my_pred\u001b[0m \u001b[1;33m=\u001b[0m \u001b[0mmodel\u001b[0m\u001b[1;33m.\u001b[0m\u001b[0mpredict\u001b[0m\u001b[1;33m(\u001b[0m\u001b[0mword_vectors\u001b[0m\u001b[1;33m[\u001b[0m\u001b[0msplit_to_train\u001b[0m\u001b[1;33m:\u001b[0m\u001b[1;33m]\u001b[0m\u001b[1;33m)\u001b[0m\u001b[1;33m\u001b[0m\u001b[1;33m\u001b[0m\u001b[0m\n\u001b[0;32m      3\u001b[0m \u001b[1;33m\u001b[0m\u001b[0m\n\u001b[1;32m----> 4\u001b[1;33m \u001b[0mcm\u001b[0m \u001b[1;33m=\u001b[0m \u001b[0mconfusion_matrix\u001b[0m\u001b[1;33m(\u001b[0m\u001b[0mlabels\u001b[0m\u001b[1;33m[\u001b[0m\u001b[0msplit_to_train\u001b[0m\u001b[1;33m:\u001b[0m\u001b[1;33m]\u001b[0m\u001b[1;33m,\u001b[0m \u001b[0my_pred\u001b[0m\u001b[1;33m.\u001b[0m\u001b[0margmax\u001b[0m\u001b[1;33m(\u001b[0m\u001b[0maxis\u001b[0m\u001b[1;33m=\u001b[0m\u001b[1;36m1\u001b[0m\u001b[1;33m)\u001b[0m\u001b[1;33m)\u001b[0m\u001b[1;33m\u001b[0m\u001b[1;33m\u001b[0m\u001b[0m\n\u001b[0m\u001b[0;32m      5\u001b[0m \u001b[0mprint\u001b[0m\u001b[1;33m(\u001b[0m\u001b[1;34m'Confusion Matrix'\u001b[0m\u001b[1;33m)\u001b[0m\u001b[1;33m\u001b[0m\u001b[1;33m\u001b[0m\u001b[0m\n\u001b[0;32m      6\u001b[0m \u001b[0mprint\u001b[0m\u001b[1;33m(\u001b[0m\u001b[0mcm\u001b[0m\u001b[1;33m)\u001b[0m\u001b[1;33m\u001b[0m\u001b[1;33m\u001b[0m\u001b[0m\n",
      "\u001b[1;31mAttributeError\u001b[0m: 'list' object has no attribute 'argmax'"
     ]
    }
   ],
   "source": [
    "# try with every trained set and see accuracy overall\n",
    "y_pred = model.predict(word_vectors)\n",
    "\n",
    "cm = confusion_matrix(labels, y_pred.argmax(axis=1))\n",
    "print('Confusion Matrix')\n",
    "print(cm)\n",
    "print((cm[0,0]+cm[1,1]+cm[2,2]) / sum([cm[i,j] for i in range(3) for j in range(3)]))"
   ]
  },
  {
   "cell_type": "code",
   "execution_count": 17,
   "metadata": {},
   "outputs": [],
   "source": [
    "model.save(\"model2.h5\") # save model for future use"
   ]
  },
  {
   "cell_type": "code",
   "execution_count": null,
   "metadata": {},
   "outputs": [],
   "source": []
  }
 ],
 "metadata": {
  "kernelspec": {
   "display_name": "Python 3.7.6 64-bit ('NLP': conda)",
   "language": "python",
   "name": "python37664bitnlpconda01760896482d47d5b516f31bea11e24d"
  },
  "language_info": {
   "codemirror_mode": {
    "name": "ipython",
    "version": 3
   },
   "file_extension": ".py",
   "mimetype": "text/x-python",
   "name": "python",
   "nbconvert_exporter": "python",
   "pygments_lexer": "ipython3",
   "version": "3.7.7-final"
  }
 },
 "nbformat": 4,
 "nbformat_minor": 4
}